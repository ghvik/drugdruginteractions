{
 "cells": [
  {
   "cell_type": "markdown",
   "metadata": {},
   "source": [
    "## Predicting Drug to Drug Interactions"
   ]
  },
  {
   "cell_type": "markdown",
   "metadata": {},
   "source": [
    "by Vikram Reddy, Bhuvana Bellala, Sameer Bajaj, and Nic Mon"
   ]
  },
  {
   "cell_type": "code",
   "execution_count": 1,
   "metadata": {},
   "outputs": [
    {
     "name": "stderr",
     "output_type": "stream",
     "text": [
      "//anaconda/lib/python3.4/site-packages/gensim-0.13.3-py3.4-macosx-10.6-x86_64.egg/gensim/utils.py:1015: UserWarning: Pattern library is not installed, lemmatization won't be available.\n",
      "  warnings.warn(\"Pattern library is not installed, lemmatization won't be available.\")\n"
     ]
    }
   ],
   "source": [
    "import pandas as pd\n",
    "import numpy as np\n",
    "import matplotlib.pyplot as plt\n",
    "%matplotlib inline\n",
    "import nltk\n",
    "from sklearn.feature_extraction.text import TfidfVectorizer\n",
    "#from sklearn.model_selection import cross_val_score\n",
    "from sklearn.model_selection  import GridSearchCV\n",
    "from sklearn.naive_bayes import MultinomialNB\n",
    "from sklearn.metrics import accuracy_score\n",
    "import gensim\n",
    "import spacy\n",
    "from spacy.symbols import nsubj, VERB\n",
    "from spacy.symbols import det\n",
    "\n",
    "nlp = spacy.load('en')"
   ]
  },
  {
   "cell_type": "code",
   "execution_count": 2,
   "metadata": {},
   "outputs": [],
   "source": [
    "train_data_f = \"train_binary_offsets.csv\"\n",
    "test_data_f = \"test_binary_offsets.csv\"\n",
    "df_train = pd.read_csv(train_data_f, low_memory=False)\n",
    "df_test = pd.read_csv(test_data_f, low_memory=False)\n",
    "\n",
    "df_train = df_train[df_train['drug1'] != df_train['drug2']]\n",
    "df_test = df_test[df_test['drug1'] != df_test['drug2']]"
   ]
  },
  {
   "cell_type": "code",
   "execution_count": 3,
   "metadata": {},
   "outputs": [
    {
     "data": {
      "text/html": [
       "<div>\n",
       "<table border=\"1\" class=\"dataframe\">\n",
       "  <thead>\n",
       "    <tr style=\"text-align: right;\">\n",
       "      <th></th>\n",
       "      <th>sentenceid</th>\n",
       "      <th>sentence_text</th>\n",
       "      <th>drug_pair</th>\n",
       "      <th>ddi_label</th>\n",
       "      <th>drug1</th>\n",
       "      <th>drug2</th>\n",
       "      <th>drug1offset</th>\n",
       "      <th>drug2offset</th>\n",
       "      <th>drugsinsent</th>\n",
       "    </tr>\n",
       "  </thead>\n",
       "  <tbody>\n",
       "    <tr>\n",
       "      <th>0</th>\n",
       "      <td>DDI-DrugBank.d519.s3</td>\n",
       "      <td>Laboratory Tests Response to Plenaxis should b...</td>\n",
       "      <td>DDI-DrugBank.d519.s3.p0</td>\n",
       "      <td>0</td>\n",
       "      <td>Plenaxis</td>\n",
       "      <td>testosterone</td>\n",
       "      <td>29-36</td>\n",
       "      <td>83-94</td>\n",
       "      <td>Plenaxis,testosterone,</td>\n",
       "    </tr>\n",
       "    <tr>\n",
       "      <th>1</th>\n",
       "      <td>DDI-DrugBank.d297.s1</td>\n",
       "      <td>Population pharmacokinetic analyses revealed t...</td>\n",
       "      <td>DDI-DrugBank.d297.s1.p0</td>\n",
       "      <td>0</td>\n",
       "      <td>MTX</td>\n",
       "      <td>NSAIDs</td>\n",
       "      <td>50-52</td>\n",
       "      <td>55-60</td>\n",
       "      <td>MTX,NSAIDs,corticosteroids,TNF blocking agents...</td>\n",
       "    </tr>\n",
       "    <tr>\n",
       "      <th>2</th>\n",
       "      <td>DDI-DrugBank.d297.s1</td>\n",
       "      <td>Population pharmacokinetic analyses revealed t...</td>\n",
       "      <td>DDI-DrugBank.d297.s1.p1</td>\n",
       "      <td>0</td>\n",
       "      <td>MTX</td>\n",
       "      <td>corticosteroids</td>\n",
       "      <td>50-52</td>\n",
       "      <td>63-77</td>\n",
       "      <td>MTX,NSAIDs,corticosteroids,TNF blocking agents...</td>\n",
       "    </tr>\n",
       "    <tr>\n",
       "      <th>3</th>\n",
       "      <td>DDI-DrugBank.d297.s1</td>\n",
       "      <td>Population pharmacokinetic analyses revealed t...</td>\n",
       "      <td>DDI-DrugBank.d297.s1.p2</td>\n",
       "      <td>0</td>\n",
       "      <td>MTX</td>\n",
       "      <td>TNF blocking agents</td>\n",
       "      <td>50-52</td>\n",
       "      <td>84-102</td>\n",
       "      <td>MTX,NSAIDs,corticosteroids,TNF blocking agents...</td>\n",
       "    </tr>\n",
       "    <tr>\n",
       "      <th>4</th>\n",
       "      <td>DDI-DrugBank.d297.s1</td>\n",
       "      <td>Population pharmacokinetic analyses revealed t...</td>\n",
       "      <td>DDI-DrugBank.d297.s1.p3</td>\n",
       "      <td>0</td>\n",
       "      <td>MTX</td>\n",
       "      <td>abatacept</td>\n",
       "      <td>50-52</td>\n",
       "      <td>122-130</td>\n",
       "      <td>MTX,NSAIDs,corticosteroids,TNF blocking agents...</td>\n",
       "    </tr>\n",
       "  </tbody>\n",
       "</table>\n",
       "</div>"
      ],
      "text/plain": [
       "             sentenceid                                      sentence_text  \\\n",
       "0  DDI-DrugBank.d519.s3  Laboratory Tests Response to Plenaxis should b...   \n",
       "1  DDI-DrugBank.d297.s1  Population pharmacokinetic analyses revealed t...   \n",
       "2  DDI-DrugBank.d297.s1  Population pharmacokinetic analyses revealed t...   \n",
       "3  DDI-DrugBank.d297.s1  Population pharmacokinetic analyses revealed t...   \n",
       "4  DDI-DrugBank.d297.s1  Population pharmacokinetic analyses revealed t...   \n",
       "\n",
       "                 drug_pair  ddi_label     drug1                drug2  \\\n",
       "0  DDI-DrugBank.d519.s3.p0          0  Plenaxis         testosterone   \n",
       "1  DDI-DrugBank.d297.s1.p0          0       MTX               NSAIDs   \n",
       "2  DDI-DrugBank.d297.s1.p1          0       MTX      corticosteroids   \n",
       "3  DDI-DrugBank.d297.s1.p2          0       MTX  TNF blocking agents   \n",
       "4  DDI-DrugBank.d297.s1.p3          0       MTX            abatacept   \n",
       "\n",
       "  drug1offset drug2offset                                        drugsinsent  \n",
       "0       29-36       83-94                             Plenaxis,testosterone,  \n",
       "1       50-52       55-60  MTX,NSAIDs,corticosteroids,TNF blocking agents...  \n",
       "2       50-52       63-77  MTX,NSAIDs,corticosteroids,TNF blocking agents...  \n",
       "3       50-52      84-102  MTX,NSAIDs,corticosteroids,TNF blocking agents...  \n",
       "4       50-52     122-130  MTX,NSAIDs,corticosteroids,TNF blocking agents...  "
      ]
     },
     "execution_count": 3,
     "metadata": {},
     "output_type": "execute_result"
    }
   ],
   "source": [
    "df_train.head()"
   ]
  },
  {
   "cell_type": "markdown",
   "metadata": {},
   "source": [
    "####Let's learn more about our dataset"
   ]
  },
  {
   "cell_type": "code",
   "execution_count": 4,
   "metadata": {},
   "outputs": [
    {
     "name": "stdout",
     "output_type": "stream",
     "text": [
      "Length of train dataset:  (23114, 9)\n",
      "Number of drug paris with no affect on each other:  (19410, 9)\n",
      "Number of drug pairs that do affect each other:  (3704, 9)\n",
      "\n",
      "Length of test dataset:  (5039, 9)\n",
      "Number of drug paris with no affect on each other:  (4155, 9)\n",
      "Number of drug pairs that do affect each other:  (884, 9)\n"
     ]
    }
   ],
   "source": [
    "print(\"Length of train dataset: \", df_train.shape)\n",
    "print(\"Number of drug paris with no affect on each other: \", df_train.loc[df_train['ddi_label'] == 0].shape)\n",
    "print(\"Number of drug pairs that do affect each other: \", df_train.loc[df_train['ddi_label'] == 1].shape)\n",
    "\n",
    "print(\"\\nLength of test dataset: \", df_test.shape)\n",
    "print(\"Number of drug paris with no affect on each other: \", df_test.loc[df_test['ddi_label'] == 0].shape)\n",
    "print(\"Number of drug pairs that do affect each other: \", df_test.loc[df_test['ddi_label'] == 1].shape)"
   ]
  },
  {
   "cell_type": "markdown",
   "metadata": {},
   "source": [
    "The dataset is very uneven. We might be overfitting. Undersample the data."
   ]
  },
  {
   "cell_type": "code",
   "execution_count": 5,
   "metadata": {},
   "outputs": [],
   "source": [
    "def create_train_dev_test(df):\n",
    "    random_index = np.random.permutation(df.index)\n",
    "    df_shuffled = df.ix[random_index]\n",
    "    df_shuffled.reset_index(drop=True, inplace=True)\n",
    "    rows, columns =  df_shuffled.shape\n",
    "    train_size = round(rows*.2)\n",
    "    dev_size   = round(rows*.4)\n",
    "    df_train = df_shuffled.loc[:train_size]\n",
    "    df_dev = df_shuffled.loc[train_size:dev_size+train_size].reset_index(drop=True)\n",
    "    return df_train, df_dev\n",
    "\n",
    "# df_train.loc[df_train['ddi_label'] == 0].head()\n",
    "df_train_no_interact, df_dev = create_train_dev_test(df_train.loc[df_train['ddi_label'] == 0])"
   ]
  },
  {
   "cell_type": "code",
   "execution_count": 6,
   "metadata": {},
   "outputs": [
    {
     "data": {
      "text/plain": [
       "(7587, 9)"
      ]
     },
     "execution_count": 6,
     "metadata": {},
     "output_type": "execute_result"
    }
   ],
   "source": [
    "frames = [df_train_no_interact, df_train.loc[df_train['ddi_label'] == 1]]\n",
    "df_train = pd.concat(frames)\n",
    "df_train.shape"
   ]
  },
  {
   "cell_type": "markdown",
   "metadata": {},
   "source": [
    "###Create training and development sets"
   ]
  },
  {
   "cell_type": "code",
   "execution_count": 19,
   "metadata": {},
   "outputs": [],
   "source": [
    "triggers = []\n",
    "with open(\"triggers.txt\") as f:\n",
    "    for line in f:\n",
    "        triggers.append(line.split()[1])\n",
    "trigger_words = set(triggers)\n",
    "\n",
    "negative_words = ['No', 'not', 'neither', 'without', 'lack', 'fail', \n",
    "                  'unable', 'abrogate', 'absence', 'prevent', \n",
    "                  'unlikely', 'unchanged', 'rarely']\n",
    "\n",
    "negative_words = set(negative_words)\n",
    "\n",
    "def tokenize(sentence_df):\n",
    "    sent_tokenizer = nltk.data.load('tokenizers/punkt/english.pickle')\n",
    "    sentences = [sentence for sentence in sentence_df]\n",
    "    words_in_sents = [nltk.word_tokenize(sent) for sent in sentences]\n",
    "    return words_in_sents\n",
    "words_in_sents = tokenize(df_train['sentence_text'])\n",
    "ddi_embedding_model = gensim.models.Word2Vec(words_in_sents)\n",
    "ddi_embedding_model.save('ddi.embedding')\n",
    "new_model = gensim.models.Word2Vec.load('ddi.embedding')"
   ]
  },
  {
   "cell_type": "markdown",
   "metadata": {},
   "source": [
    "# Define Feature Functions"
   ]
  },
  {
   "cell_type": "code",
   "execution_count": 41,
   "metadata": {},
   "outputs": [],
   "source": [
    "def negation_count(x, row):\n",
    "    \"\"\"counts total no, not and n't in the sentence \"\"\" \n",
    "    sent = row['sentence_text']\n",
    "    count = 0\n",
    "    for word in nltk.word_tokenize(sent):\n",
    "        if word == 'not' or word == 'no' or word[-3:] == \"n't\":\n",
    "            count += 1\n",
    "    return count\n",
    "\n",
    "def negation_count2(x, row):\n",
    "    \"\"\" gives how many negative words in each segment\"\"\"\n",
    "    count = 0\n",
    "    drug1_i = row['drug1offset'].split('-')\n",
    "    drug2_i = row['drug2offset'].split('-')\n",
    "    sentence = row['sentence_text']\n",
    "    first_phrase = sentence[0:int(drug1_i[0])].split()\n",
    "    mid_phrase = sentence[int(drug1_i[-1])+1:int(drug2_i[0])].split()\n",
    "    end_phrase = sentence[int(drug2_i[-1])+1:].split()\n",
    "    before_count = len(set(first_phrase) & negative_words)\n",
    "    middle_count = len(set(mid_phrase) & negative_words)\n",
    "    end_count = len(set(end_phrase) & negative_words)\n",
    "    return before_count, middle_count, end_count\n",
    "\n",
    "def trigger_count(x, row):\n",
    "    \"\"\" total number of trigger words \"\"\"\n",
    "    sent = row['sentence_text']\n",
    "    count = 0\n",
    "    for word in nltk.word_tokenize(sent.lower()):\n",
    "        if word in triggers:\n",
    "            count += 1\n",
    "    return count\n",
    "\n",
    "def trigger_count2(x, row):\n",
    "    ''' counts number of trigger words in each segment '''\n",
    "    count = 0\n",
    "    drug1_i = row['drug1offset'].split('-')\n",
    "    drug2_i = row['drug2offset'].split('-')\n",
    "    sentence = row['sentence_text']\n",
    "    first_phrase = sentence[0:int(drug1_i[0])].split()\n",
    "    mid_phrase = sentence[int(drug1_i[-1])+1:int(drug2_i[0])].split()\n",
    "    end_phrase = sentence[int(drug2_i[-1])+1:].split()\n",
    "    before_count = len(set(first_phrase) & trigger_words)\n",
    "    middle_count = len(set(mid_phrase) & trigger_words)\n",
    "    end_count = len(set(end_phrase) & trigger_words)\n",
    "    return before_count, middle_count, end_count\n",
    "\n",
    "def ultra_trigger(x, row):\n",
    "    ''' counts ultra-trigger words '''\n",
    "    sent = row['sentence_text']\n",
    "    words = ['coadministration', 'concomitant', 'concomitantly']\n",
    "    count = 0\n",
    "    for word in words:\n",
    "        if word in nltk.word_tokenize(sent.lower()):\n",
    "            count += 1\n",
    "    return count\n",
    "        \n",
    "def words_sep_by_and(x, row):\n",
    "    ''' binary feature if drugs are seperated only by and, not used '''\n",
    "    sent = row['sentence_text']\n",
    "    d1 = row['drug1']\n",
    "    d2 = row['drug2']\n",
    "    sent = sent.replace(d1, 'drug1')\n",
    "    sent = sent.replace(d2, 'drug2')\n",
    "    words = nltk.word_tokenize(sent)\n",
    "    if abs(words.index('drug1') - words.index('drug2')) < 3:\n",
    "        if words[words.index('drug1') + words.index('drug2')/2] == 'and':\n",
    "            return 1\n",
    "    return 0\n",
    "\n",
    "def key_phrase(x, row):\n",
    "    ''' binary feature that checks for key phrases, listed below'''\n",
    "    sent = row['sentence_text']\n",
    "    d1 = row['drug1']\n",
    "    d2 = row['drug2']\n",
    "    sent = sent.replace(d1, 'drug1')\n",
    "    sent = sent.replace(d2, 'drug2')\n",
    "    phrases = ['concurrent administration of drug1 and drug2', 'drug1 concurrently with drug2',\n",
    "            'co-administration of drug1 and drug2', 'coadministration of drug1 and drug2', \n",
    "               'concurrent use of drug1 and drug2',]\n",
    "    for phrase in phrases:\n",
    "        if phrase in sent.lower():\n",
    "            return 1\n",
    "    return 0\n",
    "    \n",
    "def num_words_between_drugs(x,row):\n",
    "    ''' counts number of words between drug mentions '''\n",
    "    drug1_i = row['drug1offset'].split('-')\n",
    "    drug2_i = row['drug2offset'].split('-')\n",
    "    sentence = row['sentence_text']\n",
    "    pre_phrase = sentence[int(drug1_i[-1])+1:int(drug2_i[0])].split()\n",
    "    return len(pre_phrase)\n",
    "\n",
    "def num_drugs_between_drugs(x, row):\n",
    "    ''' counts number of drugs between drug mentions '''\n",
    "    drug1_i = row['drug1offset'].split('-')\n",
    "    drug2_i = row['drug2offset'].split('-')\n",
    "    sentence = row['sentence_text']\n",
    "    pre_phrase = sentence[int(drug1_i[-1])+1:int(drug2_i[0])]\n",
    "    list_of_drugs = row['drugsinsent'].split(\",\")[0:-1]\n",
    "    drugs_in_bet = 0\n",
    "    for drug in list_of_drugs:\n",
    "        drug_split = drug.split()\n",
    "        if(pre_phrase.find(drug_split[0]) != -1):\n",
    "            drugs_in_bet += 1\n",
    "\n",
    "    return drugs_in_bet\n",
    "\n",
    "def verb_count(x, row):\n",
    "    '''counts number of verbs in each segment '''\n",
    "    pattern = r'''(?x)     \n",
    "    ([A-Z]\\.)+                       # abbrevations\n",
    "    |\\w+'\\w+                         # contractions\n",
    "    | \\w+(?:(-|(\\.\\s))(\\n)?\\w+)*     # words w/ internal hyphens, extend to next line, and with periods like Mrs. Reed\n",
    "    '''\n",
    "    count = 0\n",
    "    drug1_i = row['drug1offset'].split('-')\n",
    "    drug2_i = row['drug2offset'].split('-')\n",
    "    sentence = row['sentence_text']\n",
    "    first_phrase = nltk.pos_tag(nltk.word_tokenize(sentence[0:int(drug1_i[0])]))\n",
    "    mid_phrase = nltk.pos_tag(nltk.word_tokenize(sentence[int(drug1_i[-1])+1:int(drug2_i[0])]))\n",
    "    end_phrase = nltk.pos_tag(nltk.word_tokenize(sentence[int(drug2_i[-1])+1:]))\n",
    "\n",
    "    before_count, middle_count, end_count = 0,0,0\n",
    "    for tag in first_phrase:\n",
    "        if tag[1].startswith('V'):\n",
    "            before_count += 1\n",
    "    for tag in mid_phrase:\n",
    "        if tag[1].startswith('V'):\n",
    "            middle_count += 1\n",
    "    for tag in end_phrase:\n",
    "        if tag[1].startswith('V'):\n",
    "            end_count += 1\n",
    "    return before_count, middle_count, end_count\n",
    "\n",
    "def dist(idx, enum_list):\n",
    "    '''helper function for trig_dist '''\n",
    "    dif = [abs(idx-num) for num,word in enum_list]\n",
    "    if len(dif) == 0:\n",
    "        return 0\n",
    "    else:\n",
    "        return min(dif)\n",
    "    \n",
    "def trig_dist(x, row):\n",
    "    '''counts distance from both drug mentions to closest trigger'''\n",
    "    sentence = row['sentence_text']\n",
    "    sentence = sentence.replace(row['drug1'], 'drug1')\n",
    "    sentence = sentence.replace(row['drug2'], 'drug2')\n",
    "    words = nltk.word_tokenize(sentence)\n",
    "    \n",
    "    try:\n",
    "        drug1_i = words.index('drug1')\n",
    "    except:\n",
    "        drug1_i = 0\n",
    "    try:\n",
    "        drug2_i = words.index('drug2')\n",
    "    except:\n",
    "        drug2_i = 0\n",
    "    enum_words = list(enumerate(words))\n",
    "    enum_trigs = [(num,word) for num, word in enum_words if word in trigger_words]\n",
    "    \n",
    "    return dist(drug1_i, enum_trigs), dist(drug2_i, enum_trigs)\n",
    "\n",
    "def subj_obj(x, row):\n",
    "    '''binary feature that checks if drug1 is the nsubj or in its subtree \n",
    "    and if drug2 is dobj or in its subtree, returns 1 if both, 0 otherwise'''\n",
    "    d1, d2 = row['drug1'],row['drug2']\n",
    "    sent = row['sentence_text'].replace(d1,'drug1').replace(d2,'drug2')\n",
    "    doc = nlp(sent)\n",
    "    roots = [r for r in doc if r.head is r and r.pos == VERB] #and r.text in trigger_words]\n",
    "    d1 = [d for d in doc if d.text == 'drug1']\n",
    "    d2 = [d for d in doc if d.text == 'drug2']\n",
    "\n",
    "    flag1 = False\n",
    "    flag2 = False\n",
    "    for r in roots:\n",
    "        subj = [s for s in r.children if s.dep_[:5] == 'nsubj']\n",
    "        obj = [o for o in r.children if o.dep_[:4] == 'dobj']\n",
    "        for s in subj:\n",
    "            if 'drug1' == s.text:\n",
    "                flag1 = True\n",
    "            for s1 in s.subtree:\n",
    "                if s1.text == 'drug1':\n",
    "                    flag1 = True\n",
    "        for o in obj:\n",
    "            if 'drug2' == o.text:\n",
    "                flag2 = True\n",
    "            for o1 in o.subtree:\n",
    "                if o1.text == 'drug2':\n",
    "                    flag2 = True\n",
    "    if flag1 and flag2:\n",
    "        return 1\n",
    "    else:\n",
    "        return 0\n",
    "    \n",
    "def trig_in_path(x, row):\n",
    "    ''' binary feature if theres a trigger word in dep path to root '''\n",
    "    d1, d2 = row['drug1'],row['drug2']\n",
    "    sent = row['sentence_text'].replace(d1,'drug1').replace(d2,'drug2')\n",
    "    doc = nlp(sent)\n",
    "    drugs = [d for d in doc if d.text == 'drug1' or d.text == 'drug2']\n",
    "    for d in drugs:\n",
    "        d = d.head\n",
    "        while d.head is not d:\n",
    "            if d.text in trigger_words:\n",
    "                return 1\n",
    "            else:\n",
    "                d = d.head\n",
    "    return 0\n",
    "    \n",
    "def both_head(x, row):\n",
    "    ''' checks if the head of both drug mentions is the same '''\n",
    "    d1, d2 = row['drug1'],row['drug2']\n",
    "    sent = row['sentence_text'].replace(d1,'drug1').replace(d2,'drug2')\n",
    "    doc = nlp(sent)\n",
    "    #roots = [r for r in doc if r.head is r and r.pos == VERB and r.text in trigger_words]\n",
    "    drugs = [d for d in doc if d.text == 'drug1' or d.text == 'drug2']\n",
    "    if  len(drugs) < 2:\n",
    "        return 0\n",
    "    if drugs[0].head == drugs[1].head: #and drugs[0].head.pos ==VERB:\n",
    "        return 1\n",
    "    return 0\n",
    "\n",
    "def verb_vect(x, row):\n",
    "    '''counts number of verbs in each segment '''\n",
    "    \n",
    "    sentence = row['sentence_text']\n",
    "    words = nltk.word_tokenize(sentence)\n",
    "    pos_words = nltk.pos_tag(words)\n",
    "    \n",
    "    try:\n",
    "        drug1_i = words.index(row['drug1'])\n",
    "        drug2_i = words.index(row['drug2'])\n",
    "    except:\n",
    "        return 0.0, 0.0, 0.0\n",
    "   \n",
    "    bef_verb = 0.0\n",
    "    try:\n",
    "        for i in range(drug1_i,0, -1):\n",
    "            if pos_words[i][1].startswith('V') or pos_words[i][1].startswith('N'):\n",
    "                bef_verb = np.mean(ddi_embedding_model[pos_words[i][0]])\n",
    "                break\n",
    "    except:\n",
    "        bef_verb = 0.0\n",
    "            \n",
    "    bet_verb = 0.0\n",
    "    try:\n",
    "        for i in range(drug2_i,drug1_i, -1):\n",
    "            if pos_words[i][1].startswith('V') or pos_words[i][1].startswith('N'):\n",
    "                bet_verb = np.mean(ddi_embedding_model[pos_words[i][0]])\n",
    "                break\n",
    "    except:\n",
    "        bet_verb = 0.0\n",
    "            \n",
    "            \n",
    "    aft_verb = 0.0   \n",
    "    try:\n",
    "        for i in range(drug2_i, len(pos_words)):\n",
    "            if pos_words[i][1].startswith('V') or pos_words[i][1].startswith('N'):\n",
    "                aft_verb = np.mean(ddi_embedding_model[pos_words[i][0]])\n",
    "                break\n",
    "    except:\n",
    "        aft_verb = 0.0\n",
    "\n",
    "    return bef_verb, bet_verb, aft_verb\n",
    "    "
   ]
  },
  {
   "cell_type": "code",
   "execution_count": 42,
   "metadata": {},
   "outputs": [],
   "source": [
    "def build_features(df):\n",
    "    list_of_features = []\n",
    "    negation_count_l = []\n",
    "    trigger_count_l = []\n",
    "    ultra_trigger_l = []\n",
    "    subj_obj_l = []\n",
    "    both_head_l = []\n",
    "    trig_in_path_l = []\n",
    "    for index, row in df.iterrows():\n",
    "        negation_count_l.append(negation_count(index,row))\n",
    "        trigger_count_l.append(trigger_count(index,row))\n",
    "        ultra_trigger_l.append(ultra_trigger(index,row))\n",
    "        subj_obj_l.append(subj_obj(index,row))\n",
    "        both_head_l.append(both_head(index,row))\n",
    "        trig_in_path_l.append(trig_in_path(index,row))\n",
    "    list_of_features.append(negation_count_l)\n",
    "    list_of_features.append(trigger_count_l)\n",
    "    list_of_features.append(ultra_trigger_l)\n",
    "    list_of_features.append(subj_obj_l)\n",
    "    list_of_features.append(both_head_l)\n",
    "    list_of_features.append(trig_in_path_l)\n",
    "\n",
    "    drugs_between_drugs = []\n",
    "    words_between_drugs = []\n",
    "    for index, row in df.iterrows():\n",
    "        drugs_between_drugs.append(num_drugs_between_drugs(index,row))\n",
    "        words_between_drugs.append(num_words_between_drugs(index,row))\n",
    "    list_of_features.append(drugs_between_drugs)\n",
    "    list_of_features.append(words_between_drugs)\n",
    "    \n",
    "    #words_sep_by_and_l = []\n",
    "    #key_phrase_l = []\n",
    "    #for index, row in df.iterrows():\n",
    "        #words_sep_by_and_l.append(words_sep_by_and(index,row))\n",
    "        #key_phrase_l.append(key_phrase(index,row))\n",
    "    #list_of_features.append(words_sep_by_and_l)\n",
    "    #list_of_features.append(key_phrase_l)\n",
    "    \n",
    "    btg, betg, atg = [], [], []\n",
    "    for index, row in df.iterrows():\n",
    "        before, between, after = trigger_count2(index,row)\n",
    "        btg.append(before)\n",
    "        betg.append(between)\n",
    "        atg.append(after)\n",
    "    list_of_features.append(btg)\n",
    "    list_of_features.append(betg)\n",
    "    list_of_features.append(atg)\n",
    "    \n",
    "    n_btg, n_betg, n_atg = [], [], []\n",
    "    for index, row in df.iterrows():\n",
    "        before, between, after = negation_count2(index,row)\n",
    "        n_btg.append(before)\n",
    "        n_betg.append(between)\n",
    "        n_atg.append(after)\n",
    "    list_of_features.append(n_btg)\n",
    "    list_of_features.append(n_betg)\n",
    "    list_of_features.append(n_atg)\n",
    "    \n",
    "    v_btg, v_betg, v_atg = [], [], []\n",
    "    for index, row in df.iterrows():\n",
    "        before, between, after = verb_count(index,row)\n",
    "        v_btg.append(before)\n",
    "        v_betg.append(between)\n",
    "        v_atg.append(after)\n",
    "    list_of_features.append(v_btg)\n",
    "    list_of_features.append(v_betg)\n",
    "    list_of_features.append(v_atg)\n",
    "    \n",
    "    word2vec_b, word2vec_bet, word2vec_a = [], [], []\n",
    "    for index, row in df.iterrows():\n",
    "        verb_bef, verb_bet, verb_aft = verb_vect(index, row)\n",
    "        word2vec_b.append(verb_bef)\n",
    "        word2vec_bet.append(verb_bet)\n",
    "        word2vec_a.append(verb_aft)\n",
    "        \n",
    "    list_of_features.append(word2vec_b)\n",
    "    list_of_features.append(word2vec_bet)\n",
    "    list_of_features.append(word2vec_a)\n",
    "\n",
    "        \n",
    "    return list_of_features"
   ]
  },
  {
   "cell_type": "code",
   "execution_count": 43,
   "metadata": {
    "collapsed": true
   },
   "outputs": [],
   "source": [
    "#df_train, df_dev = create_train_dev_test();"
   ]
  },
  {
   "cell_type": "code",
   "execution_count": 11,
   "metadata": {
    "collapsed": true
   },
   "outputs": [],
   "source": [
    "vec = TfidfVectorizer(ngram_range=(1, 2), max_df=0.8, max_features=1000)\n",
    "arr_train_feature_sparse = vec.fit_transform(df_train['sentence_text'])\n",
    "arr_train_feature = arr_train_feature_sparse.toarray()\n",
    "\n",
    "arr_test_feature_sparse = vec.transform(df_test[\"sentence_text\"])\n",
    "arr_test_feature = arr_test_feature_sparse.toarray()"
   ]
  },
  {
   "cell_type": "code",
   "execution_count": 44,
   "metadata": {
    "collapsed": true
   },
   "outputs": [],
   "source": [
    "def convert_to_numpy(list_):\n",
    "    x = np.asarray(list_)\n",
    "    y = x.reshape(-1, 1)\n",
    "    return y\n",
    "\n",
    "def create_feature_set(mainset,features):\n",
    "    for list_f in features:\n",
    "        mainset = np.append(mainset, convert_to_numpy(list_f), axis=1)\n",
    "    return mainset"
   ]
  },
  {
   "cell_type": "code",
   "execution_count": 45,
   "metadata": {},
   "outputs": [],
   "source": [
    "train_feature_list = build_features(df_train)\n",
    "train_feature_set = create_feature_set(arr_train_feature, train_feature_list)\n",
    "\n",
    "test_feature_list = build_features(df_test)\n",
    "test_feature_set = create_feature_set(arr_test_feature, test_feature_list)"
   ]
  },
  {
   "cell_type": "markdown",
   "metadata": {},
   "source": [
    "##Baseline accuracy"
   ]
  },
  {
   "cell_type": "code",
   "execution_count": 46,
   "metadata": {},
   "outputs": [
    {
     "name": "stdout",
     "output_type": "stream",
     "text": [
      "Baseline with only vectorized bag of words:\n",
      "starting to fit\n",
      "starting to predict\n",
      "accuracy:  0.429648739829\n",
      "[ 0.48531519  0.36048064]\n"
     ]
    }
   ],
   "source": [
    "from sklearn.naive_bayes import MultinomialNB\n",
    "from sklearn.metrics import f1_score\n",
    "mn = MultinomialNB()\n",
    "print(\"Baseline with only vectorized bag of words:\")\n",
    "\n",
    "print(\"starting to fit\")\n",
    "mn_model = mn.fit(arr_train_feature, df_train.ddi_label)\n",
    "\n",
    "print(\"starting to predict\")\n",
    "pred_test = mn_model.predict(arr_test_feature)\n",
    "\n",
    "print('accuracy: ', accuracy_score(df_test.ddi_label, pred_test))\n",
    "print(f1_score(df_test.ddi_label, pred_test, average=None, pos_label = 1))"
   ]
  },
  {
   "cell_type": "markdown",
   "metadata": {},
   "source": [
    "# Lets Try Different Models "
   ]
  },
  {
   "cell_type": "code",
   "execution_count": 17,
   "metadata": {},
   "outputs": [],
   "source": [
    "from sklearn.ensemble import AdaBoostClassifier\n",
    "from sklearn.neighbors import KNeighborsClassifier\n",
    "from sklearn.linear_model import LogisticRegression\n",
    "from sklearn import svm\n",
    "from sklearn.ensemble import RandomForestClassifier\n",
    "from sklearn.naive_bayes import MultinomialNB\n",
    "from sklearn.model_selection import GridSearchCV\n",
    "\n",
    "def run_model(model):\n",
    "    print(\"starting to fit\")\n",
    "    fit_model = model.fit(train_feature_set, df_train.ddi_label)\n",
    "    print(\"starting to predict\")\n",
    "    pred_test = fit_model.predict(test_feature_set)\n",
    "    print('accuracy: ', accuracy_score(df_test.ddi_label, pred_test))\n",
    "    print(f1_score(df_test.ddi_label, pred_test, average=None, pos_label = 1))\n",
    "    \n",
    "def gridsearch(model, parameters):\n",
    "    clf = GridSearchCV(model, parameters)\n",
    "    clf.fit(train_feature_set, df_train.ddi_label)\n",
    "    clf_pred_test = clf.predict(test_feature_set)\n",
    "    print('accuracy: ', accuracy_score(df_test.ddi_label, clf_pred_test))\n",
    "    print(f1_score(df_test.ddi_label, clf_pred_test, average=None, pos_label = 1))"
   ]
  },
  {
   "cell_type": "markdown",
   "metadata": {},
   "source": [
    "## KNN"
   ]
  },
  {
   "cell_type": "code",
   "execution_count": 117,
   "metadata": {},
   "outputs": [
    {
     "name": "stdout",
     "output_type": "stream",
     "text": [
      "starting to fit\n",
      "starting to predict\n",
      "accuracy:  0.835681682874\n",
      "[ 0.90098063  0.51748252]\n"
     ]
    }
   ],
   "source": [
    "knn = KNeighborsClassifier(n_neighbors=3)\n",
    "run_model(knn)"
   ]
  },
  {
   "cell_type": "markdown",
   "metadata": {},
   "source": [
    "###Run GridSearchCv"
   ]
  },
  {
   "cell_type": "code",
   "execution_count": 77,
   "metadata": {},
   "outputs": [
    {
     "name": "stdout",
     "output_type": "stream",
     "text": [
      "accuracy:  0.725739233975\n",
      "[ 0.81145975  0.49708879]\n"
     ]
    }
   ],
   "source": [
    "from sklearn.model_selection import GridSearchCV\n",
    "\n",
    "knn_cv = KNeighborsClassifier()\n",
    "param = {'n_neighbors': [3, 5, 8],\n",
    "             'weights': ['uniform', 'distance'],\n",
    "             'leaf_size': [30, 50, 75, 100]}\n",
    "gridsearch(knn_cv, param)"
   ]
  },
  {
   "cell_type": "markdown",
   "metadata": {},
   "source": [
    "##AdaBoost"
   ]
  },
  {
   "cell_type": "code",
   "execution_count": 80,
   "metadata": {},
   "outputs": [
    {
     "name": "stdout",
     "output_type": "stream",
     "text": [
      "starting to fit\n",
      "starting to predict\n",
      "accuracy:  0.755903949196\n",
      "[ 0.83608742  0.52214452]\n"
     ]
    }
   ],
   "source": [
    "ada = AdaBoostClassifier(n_estimators=100)\n",
    "run_model(ada)"
   ]
  },
  {
   "cell_type": "code",
   "execution_count": 81,
   "metadata": {},
   "outputs": [
    {
     "name": "stdout",
     "output_type": "stream",
     "text": [
      "accuracy:  0.72494542568\n",
      "[ 0.80851064  0.51197183]\n"
     ]
    }
   ],
   "source": [
    "ada_cv = AdaBoostClassifier()\n",
    "param = {'n_estimators': [50, 75, 100, 150, 200],\n",
    "        'learning_rate': [0.5, 1.0, 1.15]}\n",
    "gridsearch(ada_cv, param)"
   ]
  },
  {
   "cell_type": "markdown",
   "metadata": {},
   "source": [
    "# Multinomial NB"
   ]
  },
  {
   "cell_type": "code",
   "execution_count": 82,
   "metadata": {},
   "outputs": [
    {
     "name": "stdout",
     "output_type": "stream",
     "text": [
      "starting to fit\n",
      "starting to predict\n",
      "accuracy:  0.604485016868\n",
      "[ 0.69989459  0.42013384]\n"
     ]
    }
   ],
   "source": [
    "nb = MultinomialNB()\n",
    "run_model(nb)"
   ]
  },
  {
   "cell_type": "code",
   "execution_count": 83,
   "metadata": {},
   "outputs": [
    {
     "name": "stdout",
     "output_type": "stream",
     "text": [
      "accuracy:  0.604683468942\n",
      "[ 0.70009033  0.42025611]\n"
     ]
    }
   ],
   "source": [
    "multi_cv = MultinomialNB()\n",
    "param = {'alpha': [0.8,0.9,1.0,1.1,1.2]}\n",
    "gridsearch(multi_cv, param)"
   ]
  },
  {
   "cell_type": "markdown",
   "metadata": {},
   "source": [
    "# Log Reg"
   ]
  },
  {
   "cell_type": "code",
   "execution_count": 88,
   "metadata": {},
   "outputs": [
    {
     "name": "stdout",
     "output_type": "stream",
     "text": [
      "starting to fit\n",
      "starting to predict\n",
      "accuracy:  0.682278229808\n",
      "[ 0.77479252  0.4607612 ]\n"
     ]
    }
   ],
   "source": [
    "log_reg = LogisticRegression()\n",
    "run_model(log_reg)"
   ]
  },
  {
   "cell_type": "code",
   "execution_count": 90,
   "metadata": {},
   "outputs": [
    {
     "name": "stderr",
     "output_type": "stream",
     "text": [
      "//anaconda/lib/python3.4/site-packages/sklearn/linear_model/sag.py:286: ConvergenceWarning: The max_iter was reached which means the coef_ did not converge\n",
      "  \"the coef_ did not converge\", ConvergenceWarning)\n",
      "//anaconda/lib/python3.4/site-packages/sklearn/linear_model/sag.py:286: ConvergenceWarning: The max_iter was reached which means the coef_ did not converge\n",
      "  \"the coef_ did not converge\", ConvergenceWarning)\n",
      "//anaconda/lib/python3.4/site-packages/sklearn/linear_model/sag.py:286: ConvergenceWarning: The max_iter was reached which means the coef_ did not converge\n",
      "  \"the coef_ did not converge\", ConvergenceWarning)\n",
      "//anaconda/lib/python3.4/site-packages/sklearn/linear_model/sag.py:286: ConvergenceWarning: The max_iter was reached which means the coef_ did not converge\n",
      "  \"the coef_ did not converge\", ConvergenceWarning)\n",
      "//anaconda/lib/python3.4/site-packages/sklearn/linear_model/sag.py:286: ConvergenceWarning: The max_iter was reached which means the coef_ did not converge\n",
      "  \"the coef_ did not converge\", ConvergenceWarning)\n",
      "//anaconda/lib/python3.4/site-packages/sklearn/linear_model/sag.py:286: ConvergenceWarning: The max_iter was reached which means the coef_ did not converge\n",
      "  \"the coef_ did not converge\", ConvergenceWarning)\n",
      "//anaconda/lib/python3.4/site-packages/sklearn/linear_model/sag.py:286: ConvergenceWarning: The max_iter was reached which means the coef_ did not converge\n",
      "  \"the coef_ did not converge\", ConvergenceWarning)\n",
      "//anaconda/lib/python3.4/site-packages/sklearn/linear_model/sag.py:286: ConvergenceWarning: The max_iter was reached which means the coef_ did not converge\n",
      "  \"the coef_ did not converge\", ConvergenceWarning)\n",
      "//anaconda/lib/python3.4/site-packages/sklearn/linear_model/sag.py:286: ConvergenceWarning: The max_iter was reached which means the coef_ did not converge\n",
      "  \"the coef_ did not converge\", ConvergenceWarning)\n",
      "//anaconda/lib/python3.4/site-packages/sklearn/linear_model/sag.py:286: ConvergenceWarning: The max_iter was reached which means the coef_ did not converge\n",
      "  \"the coef_ did not converge\", ConvergenceWarning)\n"
     ]
    },
    {
     "name": "stdout",
     "output_type": "stream",
     "text": [
      "accuracy:  0.695177614606\n",
      "[ 0.78666667  0.46629604]\n"
     ]
    }
   ],
   "source": [
    "log_cv = LogisticRegression()\n",
    "param = {'C': [0.5, 0.75, 1.0],\n",
    "        'solver': ['newton-cg', 'lbfgs', 'liblinear', 'sag']}\n",
    "gridsearch(log_cv, param)"
   ]
  },
  {
   "cell_type": "markdown",
   "metadata": {},
   "source": [
    "# SVM"
   ]
  },
  {
   "cell_type": "code",
   "execution_count": 92,
   "metadata": {},
   "outputs": [
    {
     "name": "stdout",
     "output_type": "stream",
     "text": [
      "starting to fit\n",
      "starting to predict\n",
      "accuracy:  0.734471125223\n",
      "[ 0.82183755  0.47897196]\n"
     ]
    }
   ],
   "source": [
    "svm_model = svm.SVC()\n",
    "run_model(svm_model)"
   ]
  },
  {
   "cell_type": "markdown",
   "metadata": {},
   "source": [
    "##RandomForestClassifer"
   ]
  },
  {
   "cell_type": "code",
   "execution_count": 47,
   "metadata": {},
   "outputs": [
    {
     "name": "stdout",
     "output_type": "stream",
     "text": [
      "starting to fit\n",
      "starting to predict\n",
      "accuracy:  0.79241913078\n",
      "[ 0.86362451  0.56561462]\n"
     ]
    }
   ],
   "source": [
    "rfc = RandomForestClassifier()\n",
    "run_model(rfc)"
   ]
  },
  {
   "cell_type": "code",
   "execution_count": 53,
   "metadata": {},
   "outputs": [
    {
     "name": "stdout",
     "output_type": "stream",
     "text": [
      "accuracy:  0.805318515578\n",
      "[ 0.87161366  0.59745589]\n"
     ]
    }
   ],
   "source": [
    "rfc_cv = RandomForestClassifier()\n",
    "params = {'n_estimators': [5, 10, 15, 20],\n",
    "         'max_depth': [100, 200, 300]}\n",
    "gridsearch(rfc_cv, params)"
   ]
  },
  {
   "cell_type": "code",
   "execution_count": null,
   "metadata": {
    "collapsed": true
   },
   "outputs": [],
   "source": []
  }
 ],
 "metadata": {
  "anaconda-cloud": {},
  "kernelspec": {
   "display_name": "Python 3",
   "language": "python",
   "name": "python3"
  },
  "language_info": {
   "codemirror_mode": {
    "name": "ipython",
    "version": 3
   },
   "file_extension": ".py",
   "mimetype": "text/x-python",
   "name": "python",
   "nbconvert_exporter": "python",
   "pygments_lexer": "ipython3",
   "version": "3.6.1"
  }
 },
 "nbformat": 4,
 "nbformat_minor": 1
}
